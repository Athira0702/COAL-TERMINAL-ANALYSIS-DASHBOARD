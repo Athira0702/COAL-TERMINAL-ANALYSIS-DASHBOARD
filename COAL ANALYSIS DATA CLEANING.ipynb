{
 "cells": [
  {
   "cell_type": "code",
   "execution_count": 2,
   "id": "7e015033",
   "metadata": {},
   "outputs": [],
   "source": [
    "import pandas as pd\n",
    "import numpy as np"
   ]
  },
  {
   "cell_type": "code",
   "execution_count": 3,
   "id": "64ed22ed",
   "metadata": {},
   "outputs": [
    {
     "name": "stdout",
     "output_type": "stream",
     "text": [
      "             Datetime  Nominal Capacity  Actual Tonnes Machines\n",
      "0 2015-09-01 00:00:00              4200           4200      RL1\n",
      "1 2015-09-01 01:00:00              4200           3941      RL1\n",
      "2 2015-09-01 02:00:00              4200           3950      RL1\n",
      "3 2015-09-01 03:00:00              4200           4200      RL1\n",
      "4 2015-09-01 04:00:00              4200           4041      RL1\n",
      "             Datetime  Nominal Capacity  Actual Tonnes Machines\n",
      "0 2015-09-01 00:00:00              3350           3350      RL2\n",
      "1 2015-09-01 01:00:00              3350           3350      RL2\n",
      "2 2015-09-01 02:00:00              3350           3350      RL2\n",
      "3 2015-09-01 03:00:00              3350           3350      RL2\n",
      "4 2015-09-01 04:00:00              3350           3350      RL2\n",
      "             Datetime  Nominal Capacity  Actual Tonnes Machines\n",
      "0 2015-09-01 00:00:00              4500           4339      SR1\n",
      "1 2015-09-01 01:00:00              4500           4179      SR1\n",
      "2 2015-09-01 02:00:00              4500           4262      SR1\n",
      "3 2015-09-01 03:00:00              4500           3779      SR1\n",
      "4 2015-09-01 04:00:00              4500           3871      SR1\n",
      "             Datetime  Nominal Capacity  Actual Tonnes Machines\n",
      "0 2015-09-06 00:00:00              4500           3993     SR4A\n",
      "1 2015-09-06 01:00:00              4500           4500     SR4A\n",
      "2 2015-09-06 02:00:00              4500           4499     SR4A\n",
      "3 2015-09-06 03:00:00              4500           4370     SR4A\n",
      "4 2015-09-06 04:00:00              4500           4499     SR4A\n",
      "             Datetime  Nominal Capacity  Actual Tonnes Machines\n",
      "0 2015-09-01 00:00:00              3450           3365      SR6\n",
      "1 2015-09-01 01:00:00              3450           3124      SR6\n",
      "2 2015-09-01 02:00:00              3450           2978      SR6\n",
      "3 2015-09-01 03:00:00              3450           3450      SR6\n",
      "4 2015-09-01 04:00:00              3450           2859      SR6\n",
      "720\n"
     ]
    }
   ],
   "source": [
    "sheet_names=['RL1','RL2','SR1','SR4A','SR6']\n",
    "total_rows=0\n",
    "dataframes=[]\n",
    "for sheet_name in sheet_names:\n",
    "    df=pd.read_excel(r\"C:\\Users\\ATHIRA S\\Downloads\\P11-Coal-Terminal (1).xlsx\",sheet_name=sheet_name)\n",
    "    total_rows=df.shape[0]\n",
    "    df['Machines']=sheet_name\n",
    "    print(df.head())\n",
    "    dataframes.append(df)\n",
    "print(total_rows)"
   ]
  },
  {
   "cell_type": "code",
   "execution_count": 11,
   "id": "2248e877",
   "metadata": {},
   "outputs": [],
   "source": [
    "master_df=pd.concat(dataframes)\n",
    "master_df=master_df[['Datetime','Machines','Nominal Capacity','Actual Tonnes']]"
   ]
  },
  {
   "cell_type": "code",
   "execution_count": 12,
   "id": "4f330c4f",
   "metadata": {},
   "outputs": [
    {
     "data": {
      "text/html": [
       "<div>\n",
       "<style scoped>\n",
       "    .dataframe tbody tr th:only-of-type {\n",
       "        vertical-align: middle;\n",
       "    }\n",
       "\n",
       "    .dataframe tbody tr th {\n",
       "        vertical-align: top;\n",
       "    }\n",
       "\n",
       "    .dataframe thead th {\n",
       "        text-align: right;\n",
       "    }\n",
       "</style>\n",
       "<table border=\"1\" class=\"dataframe\">\n",
       "  <thead>\n",
       "    <tr style=\"text-align: right;\">\n",
       "      <th></th>\n",
       "      <th>Datetime</th>\n",
       "      <th>Machines</th>\n",
       "      <th>Nominal Capacity</th>\n",
       "      <th>Actual Tonnes</th>\n",
       "    </tr>\n",
       "  </thead>\n",
       "  <tbody>\n",
       "    <tr>\n",
       "      <th>0</th>\n",
       "      <td>2015-09-01 00:00:00</td>\n",
       "      <td>RL1</td>\n",
       "      <td>4200</td>\n",
       "      <td>4200</td>\n",
       "    </tr>\n",
       "    <tr>\n",
       "      <th>1</th>\n",
       "      <td>2015-09-01 01:00:00</td>\n",
       "      <td>RL1</td>\n",
       "      <td>4200</td>\n",
       "      <td>3941</td>\n",
       "    </tr>\n",
       "    <tr>\n",
       "      <th>2</th>\n",
       "      <td>2015-09-01 02:00:00</td>\n",
       "      <td>RL1</td>\n",
       "      <td>4200</td>\n",
       "      <td>3950</td>\n",
       "    </tr>\n",
       "    <tr>\n",
       "      <th>3</th>\n",
       "      <td>2015-09-01 03:00:00</td>\n",
       "      <td>RL1</td>\n",
       "      <td>4200</td>\n",
       "      <td>4200</td>\n",
       "    </tr>\n",
       "    <tr>\n",
       "      <th>4</th>\n",
       "      <td>2015-09-01 04:00:00</td>\n",
       "      <td>RL1</td>\n",
       "      <td>4200</td>\n",
       "      <td>4041</td>\n",
       "    </tr>\n",
       "    <tr>\n",
       "      <th>...</th>\n",
       "      <td>...</td>\n",
       "      <td>...</td>\n",
       "      <td>...</td>\n",
       "      <td>...</td>\n",
       "    </tr>\n",
       "    <tr>\n",
       "      <th>715</th>\n",
       "      <td>2015-09-30 19:00:00</td>\n",
       "      <td>SR6</td>\n",
       "      <td>3450</td>\n",
       "      <td>3131</td>\n",
       "    </tr>\n",
       "    <tr>\n",
       "      <th>716</th>\n",
       "      <td>2015-09-30 20:00:00</td>\n",
       "      <td>SR6</td>\n",
       "      <td>3450</td>\n",
       "      <td>3450</td>\n",
       "    </tr>\n",
       "    <tr>\n",
       "      <th>717</th>\n",
       "      <td>2015-09-30 21:00:00</td>\n",
       "      <td>SR6</td>\n",
       "      <td>3450</td>\n",
       "      <td>3450</td>\n",
       "    </tr>\n",
       "    <tr>\n",
       "      <th>718</th>\n",
       "      <td>2015-09-30 22:00:00</td>\n",
       "      <td>SR6</td>\n",
       "      <td>3450</td>\n",
       "      <td>2730</td>\n",
       "    </tr>\n",
       "    <tr>\n",
       "      <th>719</th>\n",
       "      <td>2015-09-30 23:00:00</td>\n",
       "      <td>SR6</td>\n",
       "      <td>3450</td>\n",
       "      <td>3450</td>\n",
       "    </tr>\n",
       "  </tbody>\n",
       "</table>\n",
       "<p>3288 rows × 4 columns</p>\n",
       "</div>"
      ],
      "text/plain": [
       "               Datetime Machines  Nominal Capacity  Actual Tonnes\n",
       "0   2015-09-01 00:00:00      RL1              4200           4200\n",
       "1   2015-09-01 01:00:00      RL1              4200           3941\n",
       "2   2015-09-01 02:00:00      RL1              4200           3950\n",
       "3   2015-09-01 03:00:00      RL1              4200           4200\n",
       "4   2015-09-01 04:00:00      RL1              4200           4041\n",
       "..                  ...      ...               ...            ...\n",
       "715 2015-09-30 19:00:00      SR6              3450           3131\n",
       "716 2015-09-30 20:00:00      SR6              3450           3450\n",
       "717 2015-09-30 21:00:00      SR6              3450           3450\n",
       "718 2015-09-30 22:00:00      SR6              3450           2730\n",
       "719 2015-09-30 23:00:00      SR6              3450           3450\n",
       "\n",
       "[3288 rows x 4 columns]"
      ]
     },
     "execution_count": 12,
     "metadata": {},
     "output_type": "execute_result"
    }
   ],
   "source": [
    "master_df"
   ]
  },
  {
   "cell_type": "code",
   "execution_count": 13,
   "id": "3a908cbd",
   "metadata": {},
   "outputs": [
    {
     "name": "stderr",
     "output_type": "stream",
     "text": [
      "C:\\Users\\ATHIRA~1\\AppData\\Local\\Temp/ipykernel_3840/4010722682.py:1: FutureWarning: Starting with pandas version 3.0 all arguments of to_excel except for the argument 'excel_writer' will be keyword-only.\n",
      "  master_df.to_excel(r\"C:\\Users\\ATHIRA S\\Downloads\\P11-Coal-Terminal (finished).xlsx\",'combined data',index=False)\n",
      "C:\\Users\\ATHIRA~1\\AppData\\Local\\Temp/ipykernel_3840/4010722682.py:1: UserWarning: Pandas requires version '3.0.5' or newer of 'xlsxwriter' (version '3.0.1' currently installed).\n",
      "  master_df.to_excel(r\"C:\\Users\\ATHIRA S\\Downloads\\P11-Coal-Terminal (finished).xlsx\",'combined data',index=False)\n"
     ]
    }
   ],
   "source": [
    "master_df.to_excel(r\"C:\\Users\\ATHIRA S\\Downloads\\P11-Coal-Terminal (finished).xlsx\",'combined data',index=False)"
   ]
  },
  {
   "cell_type": "code",
   "execution_count": 14,
   "id": "1d95726a",
   "metadata": {},
   "outputs": [
    {
     "data": {
      "text/plain": [
       "Datetime            0\n",
       "Machines            0\n",
       "Nominal Capacity    0\n",
       "Actual Tonnes       0\n",
       "dtype: int64"
      ]
     },
     "execution_count": 14,
     "metadata": {},
     "output_type": "execute_result"
    }
   ],
   "source": [
    "master_df.isna().sum()"
   ]
  },
  {
   "cell_type": "code",
   "execution_count": null,
   "id": "66cd4d56",
   "metadata": {},
   "outputs": [],
   "source": []
  }
 ],
 "metadata": {
  "kernelspec": {
   "display_name": "Python 3 (ipykernel)",
   "language": "python",
   "name": "python3"
  },
  "language_info": {
   "codemirror_mode": {
    "name": "ipython",
    "version": 3
   },
   "file_extension": ".py",
   "mimetype": "text/x-python",
   "name": "python",
   "nbconvert_exporter": "python",
   "pygments_lexer": "ipython3",
   "version": "3.9.7"
  }
 },
 "nbformat": 4,
 "nbformat_minor": 5
}
